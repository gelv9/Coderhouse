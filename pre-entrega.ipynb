{
 "cells": [
  {
   "cell_type": "code",
   "execution_count": 3,
   "id": "5ea552cc-4bf0-41be-8d5b-c3f0e8b17174",
   "metadata": {},
   "outputs": [],
   "source": [
    "import openai"
   ]
  },
  {
   "cell_type": "code",
   "execution_count": 12,
   "id": "e7380797-c151-44e4-aa14-107c3018bc43",
   "metadata": {},
   "outputs": [],
   "source": [
    "openai.api_key = \"\""
   ]
  },
  {
   "cell_type": "code",
   "execution_count": 38,
   "id": "99c45db2-e8ca-42e3-a983-8373bc29f4a0",
   "metadata": {},
   "outputs": [],
   "source": [
    "context = \"Eres un experto asesor empresarial y ventas\"\n",
    "prompt = \"\"\"\n",
    "Según tu amplia base de datos y estudios de mercado, genera una lista simple (menos de 5 palabras por producto) de productos para crear una tienda teniendo en cuenta los siguientes requerimientos:\n",
    "\n",
    "Año de creación de la tienda: 2024\n",
    "Número de productos a recomendar: 5\n",
    "Tipo de mercado: Juguetes\n",
    "Características deseables de los productos: Alta rentabilidad, facilidad de importación, eco-friendly (opcional)\n",
    "Palabras clave importantes para la publicidad: \"juguetes educativos\", \"juegos de construcción\", \"muñecos de personajes populares\", \"juguetes STEM\", \"juegos ecológicos para niños\"\n",
    "\n",
    "Limita la respuesta a 100 tokens, es necesario que la información este completa.\n",
    "\n",
    "\"\"\""
   ]
  },
  {
   "cell_type": "code",
   "execution_count": 39,
   "id": "f9f7f21f-7c2e-4a56-9faa-67665939d861",
   "metadata": {},
   "outputs": [
    {
     "name": "stdout",
     "output_type": "stream",
     "text": [
      "assistant: 1. Juguetes educativos interactivos\n",
      "2. Juegos de construcción creativos\n",
      "3. Muñecos populares coleccionables\n",
      "4. Sets STEM innovadores\n",
      "5. Juguetes ecológicos sostenibles\n"
     ]
    }
   ],
   "source": [
    "conversation = [\n",
    "    {\"role\": \"system\", \"content\": context },\n",
    "    {\"role\": \"user\", \"content\": prompt },\n",
    "]\n",
    "\n",
    "response = openai.ChatCompletion.create(\n",
    "    model='gpt-3.5-turbo',\n",
    "    messages=conversation,\n",
    "    max_tokens=100\n",
    ")\n",
    "\n",
    "message = response.choices[0]['message']\n",
    "print(\"{}: {}\".format(message['role'], message['content']))"
   ]
  },
  {
   "cell_type": "code",
   "execution_count": 40,
   "id": "e892a224-ebf1-4838-9e8c-45259f0f911b",
   "metadata": {},
   "outputs": [
    {
     "name": "stdout",
     "output_type": "stream",
     "text": [
      "Recomendaciones de mercado: 1. Juguetes educativos interactivos\n",
      "2. Juegos de construcción creativos\n",
      "3. Muñecos populares coleccionables\n",
      "4. Sets STEM innovadores\n",
      "5. Juguetes ecológicos sostenibles\n"
     ]
    }
   ],
   "source": [
    "lista_mercado = response['choices'][0]['message']['content'].strip()\n",
    "print(\"Recomendaciones de mercado:\", lista_mercado)"
   ]
  },
  {
   "cell_type": "code",
   "execution_count": 48,
   "id": "b933b9a7-b9d7-42a9-9385-1b674c5b9521",
   "metadata": {},
   "outputs": [],
   "source": [
    "context = \"Eres un asesor empresarial\"\n",
    "prompt = \"\"\"\n",
    "Teniendo en cuenta el item Juguetes ecológicos sostenibles de la lista, genera una lista de 5 productos relevantes de la categoria seleccionada que cumpla con los siguientes requisitos:\n",
    "Costo de envio: bajo\n",
    "Medidas de producto: dentro de 20x20x20cm\n",
    "Productos quimicos/toxicos: no\n",
    "\n",
    "\"\"\"\n",
    "\n",
    "lista_mercado = [\n",
    "    {\"role\": \"system\", \"content\": context},\n",
    "    {\"role\": \"user\", \"content\": prompt},\n",
    "]"
   ]
  },
  {
   "cell_type": "code",
   "execution_count": 49,
   "id": "3eb26687-15cd-4546-8c43-252bbf4515ec",
   "metadata": {},
   "outputs": [
    {
     "name": "stdout",
     "output_type": "stream",
     "text": [
      "assistant: 1. Bloques de construcción de madera certificada con pinturas no tóxicas.\n",
      "2. Animales de peluche hechos de materiales reciclados y rellenos con algodón orgánico.\n",
      "3. Rompecabezas de cartón reciclado con tintas a base de agua.\n",
      "4. Set de vehículos de juguete de plástico reciclado y sin ftalatos.\n",
      "5. Juegos de mesa educativos\n"
     ]
    }
   ],
   "source": [
    "response = openai.ChatCompletion.create(\n",
    "    model='gpt-3.5-turbo',\n",
    "    messages=lista_mercado,\n",
    "    max_tokens=100\n",
    ")\n",
    "\n",
    "message = response.choices[0]['message']\n",
    "\n",
    "print(\"{}: {}\".format(message['role'], message['content']))\n",
    "\n",
    "lista_mercado.append(message)"
   ]
  }
 ],
 "metadata": {
  "kernelspec": {
   "display_name": "Python 3 (ipykernel)",
   "language": "python",
   "name": "python3"
  },
  "language_info": {
   "codemirror_mode": {
    "name": "ipython",
    "version": 3
   },
   "file_extension": ".py",
   "mimetype": "text/x-python",
   "name": "python",
   "nbconvert_exporter": "python",
   "pygments_lexer": "ipython3",
   "version": "3.12.2"
  }
 },
 "nbformat": 4,
 "nbformat_minor": 5
}
